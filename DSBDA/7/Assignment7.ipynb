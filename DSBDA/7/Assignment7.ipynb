{
 "cells": [
  {
   "cell_type": "code",
   "execution_count": 1,
   "id": "67c4b540-f93d-45dd-ab5f-d023a2919d83",
   "metadata": {},
   "outputs": [
    {
     "name": "stderr",
     "output_type": "stream",
     "text": [
      "[nltk_data] Downloading package punkt to C:\\Users\\Yash\n",
      "[nltk_data]     Bahekar\\AppData\\Roaming\\nltk_data...\n",
      "[nltk_data]   Package punkt is already up-to-date!\n"
     ]
    },
    {
     "data": {
      "text/plain": [
       "True"
      ]
     },
     "execution_count": 1,
     "metadata": {},
     "output_type": "execute_result"
    }
   ],
   "source": [
    "import nltk\n",
    "nltk.download('punkt')"
   ]
  },
  {
   "cell_type": "code",
   "execution_count": 2,
   "id": "29b8d1d4-6b01-404b-af22-e5e8b08cf3cf",
   "metadata": {},
   "outputs": [
    {
     "name": "stdout",
     "output_type": "stream",
     "text": [
      "word Tokenize:  ['The', 'cookies', 'were', 'baked', 'fresh', 'this', 'morning', '.', 'They', 'smell', 'nice', '.']\n",
      "\n",
      "\n",
      "sentence Tokenize: : ['The cookies were baked fresh this morning.', 'They smell nice.']\n"
     ]
    }
   ],
   "source": [
    "from nltk import word_tokenize,sent_tokenize\n",
    "sent = \"The cookies were baked fresh this morning. They smell nice.\"\n",
    "print(\"word Tokenize: \",word_tokenize(sent))\n",
    "print('\\n')\n",
    "print(\"sentence Tokenize: :\", sent_tokenize(sent))"
   ]
  },
  {
   "cell_type": "code",
   "execution_count": 3,
   "id": "4c9985cc-1032-461b-896d-5becef9e7da1",
   "metadata": {},
   "outputs": [
    {
     "name": "stderr",
     "output_type": "stream",
     "text": [
      "[nltk_data] Downloading package averaged_perceptron_tagger to\n",
      "[nltk_data]     C:\\Users\\Yash Bahekar\\AppData\\Roaming\\nltk_data...\n",
      "[nltk_data]   Package averaged_perceptron_tagger is already up-to-\n",
      "[nltk_data]       date!\n"
     ]
    },
    {
     "data": {
      "text/plain": [
       "True"
      ]
     },
     "execution_count": 3,
     "metadata": {},
     "output_type": "execute_result"
    }
   ],
   "source": [
    "nltk.download('averaged_perceptron_tagger')"
   ]
  },
  {
   "cell_type": "code",
   "execution_count": 4,
   "id": "58f9d189-5bbd-49e8-9a55-7b4df8c01220",
   "metadata": {},
   "outputs": [
    {
     "name": "stdout",
     "output_type": "stream",
     "text": [
      "POS Tagged:  [('The', 'DT'), ('cookies', 'NNS'), ('were', 'VBD'), ('baked', 'VBN'), ('fresh', 'JJ'), ('this', 'DT'), ('morning', 'NN'), ('.', '.'), ('They', 'PRP'), ('smell', 'VBP'), ('nice', 'RB'), ('.', '.')]\n"
     ]
    }
   ],
   "source": [
    "from nltk import pos_tag\n",
    "token = word_tokenize(sent)\n",
    "tagged = pos_tag(token)\n",
    "print(\"POS Tagged: \", tagged)"
   ]
  },
  {
   "cell_type": "code",
   "execution_count": 5,
   "id": "cbfd4067-3aac-4762-856c-eadb42e0bef0",
   "metadata": {},
   "outputs": [
    {
     "name": "stderr",
     "output_type": "stream",
     "text": [
      "[nltk_data] Downloading package stopwords to C:\\Users\\Yash\n",
      "[nltk_data]     Bahekar\\AppData\\Roaming\\nltk_data...\n",
      "[nltk_data]   Package stopwords is already up-to-date!\n"
     ]
    },
    {
     "data": {
      "text/plain": [
       "True"
      ]
     },
     "execution_count": 5,
     "metadata": {},
     "output_type": "execute_result"
    }
   ],
   "source": [
    "nltk.download(\"stopwords\")"
   ]
  },
  {
   "cell_type": "code",
   "execution_count": 6,
   "id": "e61341ae-0f12-4bf0-8687-1a967a8af2c3",
   "metadata": {},
   "outputs": [
    {
     "name": "stdout",
     "output_type": "stream",
     "text": [
      "STOP WORDS REMOVAL\n",
      "\n",
      "Before:  ['The', 'cookies', 'were', 'baked', 'fresh', 'this', 'morning', '.', 'They', 'smell', 'nice', '.']\n",
      "After:  ['The', 'cookies', 'baked', 'fresh', 'morning', '.', 'They', 'smell', 'nice', '.']\n"
     ]
    }
   ],
   "source": [
    "print(\"STOP WORDS REMOVAL\\n\")\n",
    "from nltk.corpus import stopwords\n",
    "stop_words = stopwords.words(\"english\")\n",
    "token = word_tokenize(sent)\n",
    "cleaned_token = []\n",
    "for word in token:\n",
    "    if word not in stop_words:\n",
    "        cleaned_token.append(word)\n",
    "print(\"Before: \", token)\n",
    "print(\"After: \", cleaned_token)"
   ]
  },
  {
   "cell_type": "code",
   "execution_count": 7,
   "id": "0bfeee52-6cd8-4f06-8ee3-b5f741915448",
   "metadata": {},
   "outputs": [
    {
     "name": "stdout",
     "output_type": "stream",
     "text": [
      "STEMMING\n",
      "\n",
      "Before Stemming:  ['The', 'cookies', 'were', 'baked', 'fresh', 'this', 'morning', '.', 'They', 'smell', 'nice', '.']\n",
      "After Stemming:  ['the', 'cooki', 'were', 'bake', 'fresh', 'thi', 'morn', '.', 'they', 'smell', 'nice', '.']\n"
     ]
    }
   ],
   "source": [
    "print(\"STEMMING\\n\")\n",
    "\n",
    "from nltk.stem import PorterStemmer\n",
    "stemmer = PorterStemmer()\n",
    "words = token\n",
    "stemmed = [stemmer.stem(word) for word in words]\n",
    "print(\"Before Stemming: \", words)\n",
    "print(\"After Stemming: \", stemmed)"
   ]
  },
  {
   "cell_type": "code",
   "execution_count": 8,
   "id": "6624f14c-655a-4706-a4d7-85d07d7a8116",
   "metadata": {},
   "outputs": [
    {
     "name": "stderr",
     "output_type": "stream",
     "text": [
      "[nltk_data] Downloading package wordnet to C:\\Users\\Yash\n",
      "[nltk_data]     Bahekar\\AppData\\Roaming\\nltk_data...\n",
      "[nltk_data]   Package wordnet is already up-to-date!\n"
     ]
    },
    {
     "data": {
      "text/plain": [
       "True"
      ]
     },
     "execution_count": 8,
     "metadata": {},
     "output_type": "execute_result"
    }
   ],
   "source": [
    "nltk.download('wordnet')"
   ]
  },
  {
   "cell_type": "code",
   "execution_count": 9,
   "id": "06c9ad45-df91-4428-b8a7-4b552df4cba9",
   "metadata": {},
   "outputs": [
    {
     "name": "stdout",
     "output_type": "stream",
     "text": [
      "Lematization\n",
      "\n",
      "Before Lemmatizing:  ['The', 'cookies', 'were', 'baked', 'fresh', 'this', 'morning', '.', 'They', 'smell', 'nice', '.']\n",
      "After Lemmatizing:  ['The', 'cookies', 'be', 'bake', 'fresh', 'this', 'morning', '.', 'They', 'smell', 'nice', '.']\n"
     ]
    }
   ],
   "source": [
    "print(\"Lematization\\n\")\n",
    "from nltk.stem import WordNetLemmatizer\n",
    "\n",
    "lemma = WordNetLemmatizer()\n",
    "lemmas = []\n",
    "for i in token:\n",
    "    lem = lemma.lemmatize(i, pos='v')\n",
    "    lemmas.append(lem)\n",
    "print(\"Before Lemmatizing: \", token)\n",
    "print(\"After Lemmatizing: \",lemmas)"
   ]
  },
  {
   "cell_type": "code",
   "execution_count": 10,
   "id": "7a6a3190-ec19-41a6-979f-daa8f3d9c583",
   "metadata": {},
   "outputs": [
    {
     "name": "stdout",
     "output_type": "stream",
     "text": [
      "TF-IDF\n",
      "\n",
      "Vocabulary: \n"
     ]
    },
    {
     "data": {
      "text/plain": [
       "{'the': 6,\n",
       " 'cookies': 1,\n",
       " 'were': 9,\n",
       " 'baked': 0,\n",
       " 'fresh': 2,\n",
       " 'this': 8,\n",
       " 'morning': 3,\n",
       " 'they': 7,\n",
       " 'smell': 5,\n",
       " 'nice': 4}"
      ]
     },
     "execution_count": 10,
     "metadata": {},
     "output_type": "execute_result"
    }
   ],
   "source": [
    "print(\"TF-IDF\\n\")\n",
    "\n",
    "from sklearn.feature_extraction.text import TfidfVectorizer\n",
    "\n",
    "tfidf = TfidfVectorizer()\n",
    "doc_1 = \"The cookies were baked fresh this morning.\"\n",
    "doc_2 = \"They smell nice.\"\n",
    "response = tfidf.fit_transform([doc_1,doc_2])\n",
    "\n",
    "print(\"Vocabulary: \")\n",
    "tfidf.vocabulary_"
   ]
  },
  {
   "cell_type": "code",
   "execution_count": 11,
   "id": "5e21f7ed-f487-4df2-976d-e5e75bfb3de4",
   "metadata": {},
   "outputs": [
    {
     "name": "stdout",
     "output_type": "stream",
     "text": [
      "  (0, 3)\t0.3779644730092272\n",
      "  (0, 8)\t0.3779644730092272\n",
      "  (0, 2)\t0.3779644730092272\n",
      "  (0, 0)\t0.3779644730092272\n",
      "  (0, 9)\t0.3779644730092272\n",
      "  (0, 1)\t0.3779644730092272\n",
      "  (0, 6)\t0.3779644730092272\n",
      "  (1, 4)\t0.5773502691896257\n",
      "  (1, 5)\t0.5773502691896257\n",
      "  (1, 7)\t0.5773502691896257\n"
     ]
    }
   ],
   "source": [
    "print(response)"
   ]
  },
  {
   "cell_type": "code",
   "execution_count": null,
   "id": "9c102364-a7bd-4fd6-82b6-cf7c7888b590",
   "metadata": {},
   "outputs": [],
   "source": []
  }
 ],
 "metadata": {
  "kernelspec": {
   "display_name": "Python 3 (ipykernel)",
   "language": "python",
   "name": "python3"
  },
  "language_info": {
   "codemirror_mode": {
    "name": "ipython",
    "version": 3
   },
   "file_extension": ".py",
   "mimetype": "text/x-python",
   "name": "python",
   "nbconvert_exporter": "python",
   "pygments_lexer": "ipython3",
   "version": "3.11.3"
  }
 },
 "nbformat": 4,
 "nbformat_minor": 5
}
